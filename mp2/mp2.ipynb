version https://git-lfs.github.com/spec/v1
oid sha256:7cc084469e812fc1d578779d7229b3daf928b53a7357e891bb70c8fcc447a4f7
size 19474176
