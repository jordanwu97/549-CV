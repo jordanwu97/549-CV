version https://git-lfs.github.com/spec/v1
oid sha256:e19be9bc3f3ffdcfbac4de5ac4d755e7815527adf1d33ae3411a61bde5bc5015
size 15601
